{
 "cells": [
  {
   "attachments": {},
   "cell_type": "markdown",
   "metadata": {},
   "source": [
    "Why should i use numpy?"
   ]
  },
  {
   "cell_type": "code",
   "execution_count": 183,
   "metadata": {},
   "outputs": [],
   "source": [
    "import numpy as np"
   ]
  },
  {
   "cell_type": "code",
   "execution_count": 184,
   "metadata": {},
   "outputs": [
    {
     "name": "stdout",
     "output_type": "stream",
     "text": [
      "[[ 5  4]\n",
      " [10  9]]\n"
     ]
    }
   ],
   "source": [
    "x= np.array([[3,2],[5,5]])\n",
    "y= np.array([[2,2],[5,4]])\n",
    "z=x+y\n",
    "print(z)"
   ]
  },
  {
   "cell_type": "code",
   "execution_count": 185,
   "metadata": {},
   "outputs": [
    {
     "name": "stdout",
     "output_type": "stream",
     "text": [
      "matix properties\n",
      "shape=> (2, 2)\n",
      "size=> 4\n",
      "dtype=> int32\n",
      "ndim=> 2\n"
     ]
    }
   ],
   "source": [
    "print('matix properties')\n",
    "print('shape=>', z.shape)\n",
    "print('size=>', z.size)\n",
    "print('dtype=>', z.dtype)\n",
    "print('ndim=>', z.ndim)"
   ]
  },
  {
   "cell_type": "code",
   "execution_count": 186,
   "metadata": {},
   "outputs": [
    {
     "name": "stdout",
     "output_type": "stream",
     "text": [
      "(3, 3)\n",
      "9\n",
      "int32\n",
      "2\n",
      "[[3 1 2]\n",
      " [1 2 3]\n",
      " [2 3 1]]\n"
     ]
    }
   ],
   "source": [
    "x= np.array([\n",
    "    [3,1,2],\n",
    "    [1,2,3],\n",
    "    [2,3,1],\n",
    "])\n",
    "\n",
    "print(x.shape)\n",
    "print(x.size)\n",
    "print(x.dtype)\n",
    "print(x.ndim)\n",
    "print(x)"
   ]
  },
  {
   "attachments": {},
   "cell_type": "markdown",
   "metadata": {},
   "source": [
    "Generatig Matrix\n",
    "\n",
    "-Sequential\n",
    "\n",
    "    -np.arange\n",
    "\n",
    "    -np.linspace\n",
    "\n",
    "    -np.logspace\n",
    "\n",
    "-Random\n",
    "\n",
    "    -np.random.rand\n",
    "\n",
    "    -np.random.randint\n",
    "\n",
    "    -np.random.uniform\n",
    "\n",
    "-Special\n",
    "\n",
    "    -np.zeros\n",
    "\n",
    "    -np.ones\n",
    "\n",
    "    -np.eye\n",
    "    \n",
    "    -np.diag\n",
    "    "
   ]
  },
  {
   "cell_type": "code",
   "execution_count": 187,
   "metadata": {},
   "outputs": [
    {
     "name": "stdout",
     "output_type": "stream",
     "text": [
      "[-100  -95  -90  -85  -80  -75  -70  -65  -60  -55  -50  -45  -40  -35\n",
      "  -30  -25  -20  -15  -10   -5    0    5   10   15   20   25   30   35\n",
      "   40   45   50   55   60   65   70   75   80   85   90   95]\n"
     ]
    }
   ],
   "source": [
    "a=np.arange(-100,100,5)\n",
    "print(a)"
   ]
  },
  {
   "cell_type": "code",
   "execution_count": 188,
   "metadata": {},
   "outputs": [
    {
     "name": "stdout",
     "output_type": "stream",
     "text": [
      "[-100.  -50.    0.   50.  100.]\n"
     ]
    }
   ],
   "source": [
    "b=np.linspace(-100,100,5)\n",
    "print(b)"
   ]
  },
  {
   "cell_type": "code",
   "execution_count": 189,
   "metadata": {},
   "outputs": [
    {
     "name": "stdout",
     "output_type": "stream",
     "text": [
      "[   2.    4.    8.   16.   32.   64.  128.  256.  512. 1024.]\n"
     ]
    }
   ],
   "source": [
    "c=np.logspace(1,10,base=2,num=10)\n",
    "print(c)"
   ]
  },
  {
   "cell_type": "code",
   "execution_count": 190,
   "metadata": {},
   "outputs": [],
   "source": [
    "import matplotlib.pyplot as plt"
   ]
  },
  {
   "cell_type": "code",
   "execution_count": 191,
   "metadata": {},
   "outputs": [
    {
     "data": {
      "text/plain": [
       "[<matplotlib.lines.Line2D at 0x1b10330e200>]"
      ]
     },
     "execution_count": 191,
     "metadata": {},
     "output_type": "execute_result"
    },
    {
     "data": {
      "image/png": "[encoded data removed]",
      "text/plain": [
       "<Figure size 640x480 with 1 Axes>"
      ]
     },
     "metadata": {},
     "output_type": "display_data"
    }
   ],
   "source": [
    "plt.plot(np.linspace(1,10,25),'go')"
   ]
  },
  {
   "cell_type": "code",
   "execution_count": 192,
   "metadata": {},
   "outputs": [
    {
     "data": {
      "text/plain": [
       "[<matplotlib.lines.Line2D at 0x1b10334ba60>]"
      ]
     },
     "execution_count": 192,
     "metadata": {},
     "output_type": "execute_result"
    },
    {
     "data": {
      "image/png": "[encoded data removed]",
      "text/plain": [
       "<Figure size 640x480 with 1 Axes>"
      ]
     },
     "metadata": {},
     "output_type": "display_data"
    }
   ],
   "source": [
    "plt.plot(np.logspace(1,10,25,base=2),'rx')"
   ]
  },
  {
   "cell_type": "code",
   "execution_count": 193,
   "metadata": {},
   "outputs": [
    {
     "name": "stdout",
     "output_type": "stream",
     "text": [
      "[[0.87989412 0.37091295 0.22516289]\n",
      " [0.3917601  0.64122431 0.52632693]\n",
      " [0.9646556  0.12949527 0.23624491]\n",
      " [0.66800062 0.22013746 0.17287653]\n",
      " [0.09240696 0.45175477 0.93209662]]\n"
     ]
    }
   ],
   "source": [
    "x= np.random.rand(5,3)\n",
    "print(x)"
   ]
  },
  {
   "cell_type": "code",
   "execution_count": 194,
   "metadata": {},
   "outputs": [
    {
     "name": "stdout",
     "output_type": "stream",
     "text": [
      "[[ 2 -3  4]\n",
      " [ 2 -4 -3]\n",
      " [-4 -3  0]]\n"
     ]
    }
   ],
   "source": [
    "y = np.random.randint(-5,5,(3,3))\n",
    "print(y)"
   ]
  },
  {
   "cell_type": "code",
   "execution_count": 195,
   "metadata": {},
   "outputs": [
    {
     "name": "stdout",
     "output_type": "stream",
     "text": [
      "[[-1.93107079  4.14108141  2.63584833]\n",
      " [ 2.34198535  4.82232942 -1.12335929]\n",
      " [-0.461292   -0.09083776 -2.17870816]]\n"
     ]
    }
   ],
   "source": [
    "z = np.random.uniform(-5,5,(3,3))\n",
    "print(z)"
   ]
  },
  {
   "cell_type": "code",
   "execution_count": 196,
   "metadata": {},
   "outputs": [
    {
     "name": "stdout",
     "output_type": "stream",
     "text": [
      "[[1 1 1 1 1]\n",
      " [1 1 1 1 1]\n",
      " [1 1 1 1 1]\n",
      " [1 1 1 1 1]\n",
      " [1 1 1 1 1]]\n"
     ]
    }
   ],
   "source": [
    "a=np.ones([5,5], dtype=int)\n",
    "print(a)"
   ]
  },
  {
   "cell_type": "code",
   "execution_count": 197,
   "metadata": {},
   "outputs": [
    {
     "name": "stdout",
     "output_type": "stream",
     "text": [
      "[[0 0 0 0 0 0 0 0 0 0]\n",
      " [0 0 0 0 0 0 0 0 0 0]\n",
      " [0 0 0 0 0 0 0 0 0 0]\n",
      " [0 0 0 0 0 0 0 0 0 0]\n",
      " [0 0 0 0 0 0 0 0 0 0]]\n"
     ]
    }
   ],
   "source": [
    "z= np.zeros([5,10], dtype=int)\n",
    "print(z)"
   ]
  },
  {
   "cell_type": "code",
   "execution_count": 198,
   "metadata": {},
   "outputs": [
    {
     "name": "stdout",
     "output_type": "stream",
     "text": [
      "[[1 0 0 0 0]\n",
      " [0 1 0 0 0]\n",
      " [0 0 1 0 0]\n",
      " [0 0 0 1 0]\n",
      " [0 0 0 0 1]]\n"
     ]
    }
   ],
   "source": [
    "e= np.eye(5, dtype=int)\n",
    "print(e)"
   ]
  },
  {
   "cell_type": "code",
   "execution_count": 199,
   "metadata": {},
   "outputs": [
    {
     "name": "stdout",
     "output_type": "stream",
     "text": [
      "[[1 0 0 0 0 0]\n",
      " [0 2 0 0 0 0]\n",
      " [0 0 3 0 0 0]\n",
      " [0 0 0 4 0 0]\n",
      " [0 0 0 0 5 0]\n",
      " [0 0 0 0 0 6]]\n"
     ]
    }
   ],
   "source": [
    "f=np.diag([1,2,3,4,5,6])\n",
    "print(f)"
   ]
  },
  {
   "attachments": {},
   "cell_type": "markdown",
   "metadata": {},
   "source": [
    "Maths"
   ]
  },
  {
   "cell_type": "markdown",
   "metadata": {},
   "source": []
  },
  {
   "cell_type": "code",
   "execution_count": 200,
   "metadata": {},
   "outputs": [
    {
     "name": "stdout",
     "output_type": "stream",
     "text": [
      "[[6 1 3]\n",
      " [9 3 4]\n",
      " [2 2 1]]\n",
      "[[8 2 2]\n",
      " [2 5 8]\n",
      " [5 6 8]]\n"
     ]
    }
   ],
   "source": [
    "x=np.random.randint(1,10,(3,3))\n",
    "y=np.random.randint(1,10,(3,3))\n",
    "print(x)\n",
    "print(y)"
   ]
  },
  {
   "cell_type": "code",
   "execution_count": 201,
   "metadata": {},
   "outputs": [
    {
     "data": {
      "text/plain": [
       "array([[14,  3,  5],\n",
       "       [11,  8, 12],\n",
       "       [ 7,  8,  9]])"
      ]
     },
     "execution_count": 201,
     "metadata": {},
     "output_type": "execute_result"
    }
   ],
   "source": [
    "x+y #elememt wise addition"
   ]
  },
  {
   "cell_type": "code",
   "execution_count": 202,
   "metadata": {},
   "outputs": [
    {
     "data": {
      "text/plain": [
       "array([[-2, -1,  1],\n",
       "       [ 7, -2, -4],\n",
       "       [-3, -4, -7]])"
      ]
     },
     "execution_count": 202,
     "metadata": {},
     "output_type": "execute_result"
    }
   ],
   "source": [
    "x-y #element wise substraction"
   ]
  },
  {
   "cell_type": "code",
   "execution_count": 203,
   "metadata": {},
   "outputs": [
    {
     "data": {
      "text/plain": [
       "array([[48,  2,  6],\n",
       "       [18, 15, 32],\n",
       "       [10, 12,  8]])"
      ]
     },
     "execution_count": 203,
     "metadata": {},
     "output_type": "execute_result"
    }
   ],
   "source": [
    "x*y #element wise multiplication"
   ]
  },
  {
   "cell_type": "code",
   "execution_count": 204,
   "metadata": {},
   "outputs": [
    {
     "data": {
      "text/plain": [
       "array([[0.75      , 0.5       , 1.5       ],\n",
       "       [4.5       , 0.6       , 0.5       ],\n",
       "       [0.4       , 0.33333333, 0.125     ]])"
      ]
     },
     "execution_count": 204,
     "metadata": {},
     "output_type": "execute_result"
    }
   ],
   "source": [
    "x/y #element wise division"
   ]
  },
  {
   "cell_type": "code",
   "execution_count": 205,
   "metadata": {},
   "outputs": [
    {
     "data": {
      "text/plain": [
       "array([[65, 35, 44],\n",
       "       [98, 57, 74],\n",
       "       [25, 20, 28]])"
      ]
     },
     "execution_count": 205,
     "metadata": {},
     "output_type": "execute_result"
    }
   ],
   "source": [
    "np.matmul(x,y) #matrix multiplication"
   ]
  },
  {
   "cell_type": "code",
   "execution_count": 206,
   "metadata": {},
   "outputs": [
    {
     "data": {
      "text/plain": [
       "array([[65, 35, 44],\n",
       "       [98, 57, 74],\n",
       "       [25, 20, 28]])"
      ]
     },
     "execution_count": 206,
     "metadata": {},
     "output_type": "execute_result"
    }
   ],
   "source": [
    "np.dot(x,y) #matrix multiplication"
   ]
  },
  {
   "cell_type": "code",
   "execution_count": 207,
   "metadata": {},
   "outputs": [
    {
     "data": {
      "text/plain": [
       "array([[ -4,  12,   4],\n",
       "       [  4, -64,  39],\n",
       "       [ 10, -11,   2]])"
      ]
     },
     "execution_count": 207,
     "metadata": {},
     "output_type": "execute_result"
    }
   ],
   "source": [
    "np.cross(x,y) #cross product"
   ]
  },
  {
   "cell_type": "code",
   "execution_count": 208,
   "metadata": {},
   "outputs": [
    {
     "data": {
      "text/plain": [
       "array([[-0.2794155 ,  0.84147098,  0.14112001],\n",
       "       [ 0.41211849,  0.14112001, -0.7568025 ],\n",
       "       [ 0.90929743,  0.90929743,  0.84147098]])"
      ]
     },
     "execution_count": 208,
     "metadata": {},
     "output_type": "execute_result"
    }
   ],
   "source": [
    "np.sin(x) #sin of each element"
   ]
  },
  {
   "cell_type": "code",
   "execution_count": 209,
   "metadata": {},
   "outputs": [
    {
     "data": {
      "text/plain": [
       "array([[ 0.96017029,  0.54030231, -0.9899925 ],\n",
       "       [-0.91113026, -0.9899925 , -0.65364362],\n",
       "       [-0.41614684, -0.41614684,  0.54030231]])"
      ]
     },
     "execution_count": 209,
     "metadata": {},
     "output_type": "execute_result"
    }
   ],
   "source": [
    "np.cos(x) #cos of each element"
   ]
  },
  {
   "cell_type": "code",
   "execution_count": 210,
   "metadata": {},
   "outputs": [
    {
     "data": {
      "text/plain": [
       "array([ 6,  7, 10, 19, 22, 26, 28, 30, 31])"
      ]
     },
     "execution_count": 210,
     "metadata": {},
     "output_type": "execute_result"
    }
   ],
   "source": [
    "np.cumsum(x) #cumulative sum"
   ]
  },
  {
   "cell_type": "code",
   "execution_count": 211,
   "metadata": {},
   "outputs": [
    {
     "data": {
      "text/plain": [
       "array([   6,    6,   18,  162,  486, 1944, 3888, 7776, 7776])"
      ]
     },
     "execution_count": 211,
     "metadata": {},
     "output_type": "execute_result"
    }
   ],
   "source": [
    "np.cumprod(x)"
   ]
  },
  {
   "cell_type": "code",
   "execution_count": 212,
   "metadata": {},
   "outputs": [
    {
     "data": {
      "text/plain": [
       "31"
      ]
     },
     "execution_count": 212,
     "metadata": {},
     "output_type": "execute_result"
    }
   ],
   "source": [
    "x.sum ()"
   ]
  },
  {
   "cell_type": "code",
   "execution_count": 213,
   "metadata": {},
   "outputs": [
    {
     "name": "stdout",
     "output_type": "stream",
     "text": [
      "[[5 5 7 4 6]\n",
      " [3 3 9 3 7]\n",
      " [7 8 1 6 8]]\n",
      "[15 16 17 13 21]\n",
      "[27 25 30]\n"
     ]
    }
   ],
   "source": [
    "x = np.random.randint(1,10,(3,5))\n",
    "print(x)\n",
    "print(x.sum(axis=0))#sum of each column\n",
    "print(x.sum(axis=1))#sum of each row"
   ]
  },
  {
   "cell_type": "code",
   "execution_count": 214,
   "metadata": {},
   "outputs": [
    {
     "name": "stdout",
     "output_type": "stream",
     "text": [
      "5.466666666666667\n",
      "9\n",
      "1\n",
      "2.2171052197754517\n",
      "6.0\n"
     ]
    }
   ],
   "source": [
    "print(x.mean())\n",
    "print(x.max())\n",
    "print(x.min())\n",
    "print(x.std())\n",
    "print(np.median(x))"
   ]
  },
  {
   "attachments": {},
   "cell_type": "markdown",
   "metadata": {},
   "source": [
    "-reshape\n",
    "\n",
    "-transpose\n",
    "\n",
    "-flatten\n",
    "\n",
    "-concept of boolean indexing(filtering)"
   ]
  },
  {
   "cell_type": "code",
   "execution_count": 215,
   "metadata": {},
   "outputs": [
    {
     "name": "stdout",
     "output_type": "stream",
     "text": [
      "[[36 27 27 66 85 52]\n",
      " [78 67 25 17 29 26]\n",
      " [ 7 52 27 48 10 63]\n",
      " [99 74 55  4 94 31]\n",
      " [15 11 98 89 36 92]]\n"
     ]
    }
   ],
   "source": [
    "x=np.random.randint(1,100,(5,6))\n",
    "print(x)"
   ]
  },
  {
   "cell_type": "code",
   "execution_count": 216,
   "metadata": {},
   "outputs": [
    {
     "name": "stdout",
     "output_type": "stream",
     "text": [
      "[[36 27 27 66 85 52 78 67 25 17 29 26  7 52 27 48 10 63 99 74 55  4 94 31\n",
      "  15 11 98 89 36 92]]\n"
     ]
    }
   ],
   "source": [
    "xi = x.reshape(1,30)\n",
    "print(xi)"
   ]
  },
  {
   "cell_type": "code",
   "execution_count": 217,
   "metadata": {},
   "outputs": [
    {
     "data": {
      "text/plain": [
       "array([[[54, 48],\n",
       "        [10, 33],\n",
       "        [23, 72],\n",
       "        [93, 90]],\n",
       "\n",
       "       [[91, 75],\n",
       "        [98, 43],\n",
       "        [78, 64],\n",
       "        [17, 86]]])"
      ]
     },
     "execution_count": 217,
     "metadata": {},
     "output_type": "execute_result"
    }
   ],
   "source": [
    "np.random.randint(1,100,(2,4,2)) #in range we was (shape of matrix(x,y),no. of matrix(2))"
   ]
  },
  {
   "cell_type": "code",
   "execution_count": 218,
   "metadata": {},
   "outputs": [
    {
     "name": "stdout",
     "output_type": "stream",
     "text": [
      "[[8 7 2 1]\n",
      " [9 2 8 2]]\n",
      "[[8 9]\n",
      " [7 2]\n",
      " [2 8]\n",
      " [1 2]]\n",
      "[[1 2]\n",
      " [2 8]\n",
      " [7 2]\n",
      " [8 9]]\n",
      "[[1 2 7 8]\n",
      " [2 8 2 9]]\n",
      "[[9 2 8 2]\n",
      " [8 7 2 1]]\n"
     ]
    }
   ],
   "source": [
    "x=np.random.randint(1,10,(2,4))\n",
    "print(x)\n",
    "print(x.transpose())\n",
    "print(np.rot90(x))\n",
    "print(np.fliplr(x))\n",
    "print(np.flipud(x))"
   ]
  },
  {
   "cell_type": "code",
   "execution_count": 219,
   "metadata": {},
   "outputs": [
    {
     "data": {
      "text/plain": [
       "array([8, 7, 2, 1, 9, 2, 8, 2])"
      ]
     },
     "execution_count": 219,
     "metadata": {},
     "output_type": "execute_result"
    }
   ],
   "source": [
    "x.flatten()"
   ]
  },
  {
   "cell_type": "code",
   "execution_count": 220,
   "metadata": {},
   "outputs": [
    {
     "name": "stdout",
     "output_type": "stream",
     "text": [
      "[[28 53 81 17 95 75]\n",
      " [47 58 55 85 69 66]\n",
      " [94 71 28 85 32 36]\n",
      " [92 83 27 30 27 91]\n",
      " [49 34 56 26 70 90]\n",
      " [68 59 99 85 13 33]]\n"
     ]
    }
   ],
   "source": [
    "x=np.random.randint(10,100,(6,6))\n",
    "print(x)"
   ]
  },
  {
   "attachments": {},
   "cell_type": "markdown",
   "metadata": {},
   "source": [
    "Only of 2d"
   ]
  },
  {
   "cell_type": "code",
   "execution_count": 221,
   "metadata": {},
   "outputs": [
    {
     "name": "stdout",
     "output_type": "stream",
     "text": [
      "27\n"
     ]
    }
   ],
   "source": [
    "print(x[3,4])"
   ]
  },
  {
   "cell_type": "code",
   "execution_count": 222,
   "metadata": {},
   "outputs": [
    {
     "name": "stdout",
     "output_type": "stream",
     "text": [
      "first row [28 53 81 17 95 75]\n",
      "last row [68 59 99 85 13 33]\n"
     ]
    }
   ],
   "source": [
    "print('first row',x[0])\n",
    "print('last row',x[-1])"
   ]
  },
  {
   "cell_type": "code",
   "execution_count": 223,
   "metadata": {},
   "outputs": [
    {
     "name": "stdout",
     "output_type": "stream",
     "text": [
      "first element 28\n",
      "last element 33\n"
     ]
    }
   ],
   "source": [
    "print('first element',x[0,0])\n",
    "print('last element',x[-1,-1])"
   ]
  },
  {
   "cell_type": "code",
   "execution_count": 224,
   "metadata": {},
   "outputs": [
    {
     "name": "stdout",
     "output_type": "stream",
     "text": [
      "85\n"
     ]
    }
   ],
   "source": [
    "print(x[2,3])"
   ]
  },
  {
   "cell_type": "code",
   "execution_count": 225,
   "metadata": {},
   "outputs": [
    {
     "name": "stdout",
     "output_type": "stream",
     "text": [
      "first column [28 47 94 92 49 68]\n"
     ]
    }
   ],
   "source": [
    "print('first column',x[:,0]) #first column"
   ]
  },
  {
   "cell_type": "code",
   "execution_count": 226,
   "metadata": {},
   "outputs": [
    {
     "name": "stdout",
     "output_type": "stream",
     "text": [
      "last column [75 66 36 91 90 33]\n"
     ]
    }
   ],
   "source": [
    "print('last column',x[:,-1])"
   ]
  },
  {
   "cell_type": "code",
   "execution_count": 227,
   "metadata": {},
   "outputs": [
    {
     "data": {
      "text/plain": [
       "array([[53, 81],\n",
       "       [58, 55],\n",
       "       [71, 28],\n",
       "       [83, 27],\n",
       "       [34, 56],\n",
       "       [59, 99]])"
      ]
     },
     "execution_count": 227,
     "metadata": {},
     "output_type": "execute_result"
    }
   ],
   "source": [
    "x[:,[1,2]]"
   ]
  },
  {
   "cell_type": "code",
   "execution_count": 228,
   "metadata": {},
   "outputs": [
    {
     "data": {
      "text/plain": [
       "array([[28, 53, 81],\n",
       "       [47, 58, 55],\n",
       "       [94, 71, 28],\n",
       "       [92, 83, 27],\n",
       "       [49, 34, 56],\n",
       "       [68, 59, 99]])"
      ]
     },
     "execution_count": 228,
     "metadata": {},
     "output_type": "execute_result"
    }
   ],
   "source": [
    "x[:,:3] #first 3 columns"
   ]
  },
  {
   "cell_type": "code",
   "execution_count": 229,
   "metadata": {},
   "outputs": [
    {
     "name": "stdout",
     "output_type": "stream",
     "text": [
      "[[ 1  2  3  4  5  6]\n",
      " [ 7  8  9 10 11 12]\n",
      " [13 14 15 16 17 18]\n",
      " [19 20 21 22 23 24]\n",
      " [25 26 27 28 29 30]\n",
      " [31 32 33 34 35 36]]\n"
     ]
    }
   ],
   "source": [
    "y= np.arange(1,37).reshape(6,6)\n",
    "print(y)"
   ]
  },
  {
   "cell_type": "code",
   "execution_count": 230,
   "metadata": {},
   "outputs": [
    {
     "data": {
      "text/plain": [
       "array([[22, 23, 24],\n",
       "       [28, 29, 30],\n",
       "       [34, 35, 36]])"
      ]
     },
     "execution_count": 230,
     "metadata": {},
     "output_type": "execute_result"
    }
   ],
   "source": [
    "y[3:,3:]"
   ]
  },
  {
   "cell_type": "code",
   "execution_count": 231,
   "metadata": {},
   "outputs": [
    {
     "data": {
      "text/plain": [
       "array([[19, 20],\n",
       "       [25, 26],\n",
       "       [31, 32]])"
      ]
     },
     "execution_count": 231,
     "metadata": {},
     "output_type": "execute_result"
    }
   ],
   "source": [
    "y[-3:, :2]"
   ]
  },
  {
   "cell_type": "code",
   "execution_count": 232,
   "metadata": {},
   "outputs": [
    {
     "data": {
      "text/plain": [
       "array([[14, 15, 16],\n",
       "       [20, 21, 22]])"
      ]
     },
     "execution_count": 232,
     "metadata": {},
     "output_type": "execute_result"
    }
   ],
   "source": [
    "y[2:4,1:4]"
   ]
  },
  {
   "cell_type": "code",
   "execution_count": 233,
   "metadata": {},
   "outputs": [
    {
     "name": "stdout",
     "output_type": "stream",
     "text": [
      "[[28 53 81 17 95 75]\n",
      " [47 58 55 85 69 66]\n",
      " [94 71 28 85 32 36]\n",
      " [92 83 27 30 27 91]\n",
      " [49 34 56 26 70 90]\n",
      " [68 59 99 85 13 33]]\n"
     ]
    },
    {
     "data": {
      "text/plain": [
       "array([[69, 66],\n",
       "       [32, 36]])"
      ]
     },
     "execution_count": 233,
     "metadata": {},
     "output_type": "execute_result"
    }
   ],
   "source": [
    "print(x)\n",
    "x[[1,2],-2:] #[[no. of rows], column position]"
   ]
  },
  {
   "cell_type": "code",
   "execution_count": 234,
   "metadata": {},
   "outputs": [
    {
     "data": {
      "text/plain": [
       "array([[47, 58, 55, 85],\n",
       "       [94, 71, 28, 85],\n",
       "       [92, 83, 27, 30]])"
      ]
     },
     "execution_count": 234,
     "metadata": {},
     "output_type": "execute_result"
    }
   ],
   "source": [
    "x[[1,2,3],:4]"
   ]
  },
  {
   "attachments": {},
   "cell_type": "markdown",
   "metadata": {},
   "source": [
    "Boolean filter"
   ]
  },
  {
   "cell_type": "code",
   "execution_count": 235,
   "metadata": {},
   "outputs": [
    {
     "data": {
      "text/plain": [
       "array([ 56,   8, 668, 472, 383, 333, 833, 951, 748, 375, 874, 886, 450,\n",
       "       814, 241, 350, 949, 657, 375, 667, 599, 229, 507, 942, 697, 123,\n",
       "       614, 797, 114, 742, 404, 305, 977, 859,   6, 290, 640,  72, 272,\n",
       "       929, 967, 299, 387, 562, 568,   3, 186, 311, 660, 728])"
      ]
     },
     "execution_count": 235,
     "metadata": {},
     "output_type": "execute_result"
    }
   ],
   "source": [
    "x=np.random.randint(1,1000,50)\n",
    "x"
   ]
  },
  {
   "cell_type": "code",
   "execution_count": 236,
   "metadata": {},
   "outputs": [
    {
     "data": {
      "text/plain": [
       "array([ True,  True, False, False, False, False, False, False, False,\n",
       "       False, False, False, False, False, False, False, False, False,\n",
       "       False, False, False, False, False, False, False, False, False,\n",
       "       False, False, False, False, False, False, False,  True, False,\n",
       "       False,  True, False, False, False, False, False, False, False,\n",
       "        True, False, False, False, False])"
      ]
     },
     "execution_count": 236,
     "metadata": {},
     "output_type": "execute_result"
    }
   ],
   "source": [
    "x < 100 #boolean filter"
   ]
  },
  {
   "cell_type": "code",
   "execution_count": 237,
   "metadata": {},
   "outputs": [
    {
     "data": {
      "text/plain": [
       "array([56,  8,  6, 72,  3])"
      ]
     },
     "execution_count": 237,
     "metadata": {},
     "output_type": "execute_result"
    }
   ],
   "source": [
    "x[x<100]"
   ]
  },
  {
   "cell_type": "code",
   "execution_count": 238,
   "metadata": {},
   "outputs": [
    {
     "data": {
      "text/plain": [
       "array([668, 472, 383, 333, 833, 951, 748, 375, 874, 886, 450, 814, 241,\n",
       "       350, 949, 657, 375, 667, 599, 229, 507, 942, 697, 123, 614, 797,\n",
       "       114, 742, 404, 305, 977, 859, 290, 640, 272, 929, 967, 299, 387,\n",
       "       562, 568, 186, 311, 660, 728])"
      ]
     },
     "execution_count": 238,
     "metadata": {},
     "output_type": "execute_result"
    }
   ],
   "source": [
    "x[x >= 100]"
   ]
  },
  {
   "cell_type": "code",
   "execution_count": 239,
   "metadata": {},
   "outputs": [],
   "source": [
    "f1 = x>=500\n",
    "f2 = x<=800"
   ]
  },
  {
   "cell_type": "code",
   "execution_count": 240,
   "metadata": {},
   "outputs": [
    {
     "name": "stdout",
     "output_type": "stream",
     "text": [
      "[668 748 657 667 599 507 697 614 797 742 640 562 568 660 728]\n",
      "[668 748 657 667 599 507 697 614 797 742 640 562 568 660 728]\n"
     ]
    }
   ],
   "source": [
    "print(x[f1 & f2])\n",
    "print(x[(x>=500) & (x<=800)])"
   ]
  },
  {
   "cell_type": "code",
   "execution_count": null,
   "metadata": {},
   "outputs": [],
   "source": []
  }
 ],
 "metadata": {
  "kernelspec": {
   "display_name": "base",
   "language": "python",
   "name": "python3"
  },
  "language_info": {
   "codemirror_mode": {
    "name": "ipython",
    "version": 3
   },
   "file_extension": ".py",
   "mimetype": "text/x-python",
   "name": "python",
   "nbconvert_exporter": "python",
   "pygments_lexer": "ipython3",
   "version": "3.10.9"
  },
  "orig_nbformat": 4
 },
 "nbformat": 4,
 "nbformat_minor": 2
}
