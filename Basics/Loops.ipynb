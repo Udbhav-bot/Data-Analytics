{
 "cells": [
  {
   "attachments": {},
   "cell_type": "markdown",
   "metadata": {},
   "source": [
    "Loop\n",
    "\n",
    "-For loop-step based\n",
    "\n",
    "-While Loop-conditioned based\n",
    "\n",
    "for loop syntax\n",
    "\n",
    "for \n",
    "temp_variable\n",
    "in iterable:\n",
    "\n",
    "    statement\n",
    "    1\n",
    "\n",
    "    statement\n",
    "    2\n",
    "\n",
    "    ...\n",
    "    \n",
    "    statement\n",
    "    n"
   ]
  },
  {
   "cell_type": "code",
   "execution_count": 1,
   "metadata": {},
   "outputs": [
    {
     "name": "stdout",
     "output_type": "stream",
     "text": [
      "A\n",
      "l\n",
      "p\n",
      "h\n",
      "a\n",
      "b\n",
      "e\n",
      "t\n",
      " \n",
      "a\n",
      "n\n",
      "d\n",
      " \n",
      "n\n",
      "u\n",
      "m\n",
      "b\n",
      "e\n",
      "r\n",
      "s\n"
     ]
    }
   ],
   "source": [
    "a= 'Alphabet and numbers'\n",
    "for letter in a :\n",
    "    print ( letter)"
   ]
  },
  {
   "cell_type": "code",
   "execution_count": 2,
   "metadata": {},
   "outputs": [
    {
     "name": "stdout",
     "output_type": "stream",
     "text": [
      "I like  red color\n",
      "I like  green color\n",
      "I like  blue color\n",
      "I like  black color\n"
     ]
    }
   ],
   "source": [
    "colors=['red','green','blue','black']\n",
    "for color in colors:\n",
    "    print('I like ',color, 'color')"
   ]
  },
  {
   "cell_type": "code",
   "execution_count": 3,
   "metadata": {},
   "outputs": [
    {
     "name": "stdout",
     "output_type": "stream",
     "text": [
      "0\n",
      "1\n",
      "2\n",
      "3\n",
      "4\n",
      "5\n",
      "6\n",
      "7\n",
      "8\n",
      "9\n"
     ]
    }
   ],
   "source": [
    "for i in range(10):\n",
    "    print(i)"
   ]
  },
  {
   "attachments": {},
   "cell_type": "markdown",
   "metadata": {},
   "source": [
    "range() function\n",
    "\n",
    "-range(100) => 0-99\n",
    "\n",
    "-range(5,50) => 5-49\n",
    "\n",
    "-range (10,100,10) => 10,20,30,40,50,60,70,80,90\n",
    "\n",
    "-range(start, stop, step)"
   ]
  },
  {
   "cell_type": "code",
   "execution_count": 4,
   "metadata": {},
   "outputs": [
    {
     "name": "stdout",
     "output_type": "stream",
     "text": [
      "0 1 2 3 4 5 6 7 8 9 10 11 12 13 14 15 16 17 18 19 20 21 22 23 24 25 26 27 28 29 30 31 32 33 34 35 36 37 38 39 40 41 42 43 44 45 46 47 48 49 50 51 52 53 54 55 56 57 58 59 60 61 62 63 64 65 66 67 68 69 70 71 72 73 74 75 76 77 78 79 80 81 82 83 84 85 86 87 88 89 90 91 92 93 94 95 96 97 98 99 "
     ]
    }
   ],
   "source": [
    "for i in range(100):\n",
    "    print(i, end=' ')"
   ]
  },
  {
   "cell_type": "code",
   "execution_count": 8,
   "metadata": {},
   "outputs": [
    {
     "name": "stdout",
     "output_type": "stream",
     "text": [
      "5 6 7 8 9 10 11 12 13 14 15 16 17 18 19 20 21 22 23 24 25 26 27 28 29 30 31 32 33 34 35 36 37 38 39 40 41 42 43 44 45 46 47 48 49 "
     ]
    }
   ],
   "source": [
    "for i in range (5, 50 ):\n",
    "    print(i, end=' ')"
   ]
  },
  {
   "cell_type": "code",
   "execution_count": 9,
   "metadata": {},
   "outputs": [
    {
     "name": "stdout",
     "output_type": "stream",
     "text": [
      "5 15 25 35 45 55 65 75 85 95 "
     ]
    }
   ],
   "source": [
    "for i in range(5,100,10):\n",
    "    print(i,end=' ')"
   ]
  },
  {
   "cell_type": "code",
   "execution_count": 14,
   "metadata": {},
   "outputs": [
    {
     "name": "stdout",
     "output_type": "stream",
     "text": [
      "46, is even\n",
      "35, is odd\n",
      "3, is odd\n",
      "5, is odd\n",
      "6, is even\n",
      "7, is odd\n",
      "8, is even\n",
      "4, is even\n"
     ]
    }
   ],
   "source": [
    "numbers = [46,35,3,5,6,7,8,4]\n",
    "for i in numbers:\n",
    "    if i%2==0:\n",
    "        print(f'{i}, is even')\n",
    "    else:\n",
    "        print(f'{i}, is odd')"
   ]
  },
  {
   "cell_type": "code",
   "execution_count": 15,
   "metadata": {},
   "outputs": [
    {
     "name": "stdout",
     "output_type": "stream",
     "text": [
      "yellow\n",
      "orange\n"
     ]
    }
   ],
   "source": [
    "colors = ['red','green','yellow','orange']\n",
    "for i in colors :\n",
    "    if 'o' in i :\n",
    "        print(i)"
   ]
  },
  {
   "cell_type": "code",
   "execution_count": 17,
   "metadata": {},
   "outputs": [
    {
     "name": "stdout",
     "output_type": "stream",
     "text": [
      "Hello sir\n",
      "Hello Doctor\n",
      "Hello sir\n",
      "Hello ma'am\n",
      "Hello Doctor\n",
      "Hello Doctor\n",
      "alexa is not invited\n"
     ]
    }
   ],
   "source": [
    "guest=['Mr. JOhn','Dr. Smith','Mr. Jones' ,'Mrs. Smith', 'Dr. Jones', 'Dr. Smith','alexa']\n",
    "for name in guest:\n",
    "    if name.startswith('Mr.'):\n",
    "        print('Hello sir')\n",
    "    elif name.startswith('Mrs.'):\n",
    "        print(\"Hello ma'am\")\n",
    "    elif name.startswith('Dr.'):\n",
    "        print ('Hello Doctor')\n",
    "    else:\n",
    "        print(f\"{name} is not invited\")"
   ]
  },
  {
   "cell_type": "code",
   "execution_count": 18,
   "metadata": {},
   "outputs": [
    {
     "name": "stdout",
     "output_type": "stream",
     "text": [
      "😊\n",
      "😒\n",
      "😶‍🌫️\n",
      "😶‍🌫️\n",
      "😒\n",
      "😶‍🌫️\n",
      "😒\n",
      "😒\n",
      "😶‍🌫️\n",
      "😶‍🌫️\n"
     ]
    }
   ],
   "source": [
    "numbers = [23,45,56,68,34,67,45,46,56,87]\n",
    "for numb in numbers:\n",
    "    if numb >50:\n",
    "        print('😶‍🌫️')\n",
    "    elif numb <30:\n",
    "        print('😊')\n",
    "    else:\n",
    "        print ('😒')\n"
   ]
  },
  {
   "attachments": {},
   "cell_type": "markdown",
   "metadata": {},
   "source": [
    "Function that used along with loops\n",
    "\n",
    "-enumerate()\n",
    "\n",
    "-zip()"
   ]
  },
  {
   "cell_type": "code",
   "execution_count": 19,
   "metadata": {},
   "outputs": [
    {
     "name": "stdout",
     "output_type": "stream",
     "text": [
      "(0, 'Ritesh')\n",
      "(1, 'Nitesh')\n",
      "(2, 'Himanshu')\n",
      "(3, 'Amita')\n",
      "(4, 'Udbhav')\n",
      "(5, 'Aditya')\n",
      "(6, 'Avanish')\n",
      "(7, 'Priyanshi')\n",
      "(8, 'Areesha')\n",
      "(9, 'Muskan')\n",
      "(10, 'Pragya')\n",
      "(11, 'Amrit')\n"
     ]
    }
   ],
   "source": [
    "name= ['Ritesh', 'Nitesh', 'Himanshu', 'Amita', 'Udbhav','Aditya','Avanish','Priyanshi','Areesha','Muskan','Pragya','Amrit']\n",
    "for nm in enumerate(name):\n",
    "    print(nm)"
   ]
  },
  {
   "cell_type": "code",
   "execution_count": 21,
   "metadata": {},
   "outputs": [
    {
     "name": "stdout",
     "output_type": "stream",
     "text": [
      "Ritesh is at index 0\n",
      "Nitesh is at index 1\n",
      "Himanshu is at index 2\n",
      "Amita is at index 3\n",
      "Udbhav is at index 4\n",
      "Aditya is at index 5\n",
      "Avanish is at index 6\n",
      "Priyanshi is at index 7\n",
      "Areesha is at index 8\n",
      "Muskan is at index 9\n",
      "Pragya is at index 10\n",
      "Amrit is at index 11\n"
     ]
    }
   ],
   "source": [
    "for i,nm in enumerate(name):\n",
    "    print(f'{nm} is at index {i}')"
   ]
  },
  {
   "cell_type": "code",
   "execution_count": 22,
   "metadata": {},
   "outputs": [],
   "source": [
    "bday= ['12 oct', '2feb','30 aug','18 jan','20 oct','3 may', '13 aug','12 jun','22 march','13 sep','25 oct','13 may']"
   ]
  },
  {
   "cell_type": "code",
   "execution_count": 24,
   "metadata": {},
   "outputs": [
    {
     "name": "stdout",
     "output_type": "stream",
     "text": [
      "Ritesh has bday🎂,12 oct\n",
      "Nitesh has bday🎂,2feb\n",
      "Himanshu has bday🎂,30 aug\n",
      "Amita has bday🎂,18 jan\n",
      "Udbhav has bday🎂,20 oct\n",
      "Aditya has bday🎂,3 may\n",
      "Avanish has bday🎂,13 aug\n",
      "Priyanshi has bday🎂,12 jun\n",
      "Areesha has bday🎂,22 march\n",
      "Muskan has bday🎂,13 sep\n",
      "Pragya has bday🎂,25 oct\n",
      "Amrit has bday🎂,13 may\n"
     ]
    }
   ],
   "source": [
    "for nm , date in zip (name, bday):\n",
    "    print(f'{nm} has bday🎂,{date}')"
   ]
  },
  {
   "cell_type": "code",
   "execution_count": 26,
   "metadata": {},
   "outputs": [
    {
     "name": "stdout",
     "output_type": "stream",
     "text": [
      "T.V  | $15000| 5| total= 75000\n",
      "Fridge  | $30000| 10| total= 300000\n",
      "Table Fan  | $5000| 25| total= 125000\n"
     ]
    }
   ],
   "source": [
    "products = [ 'T.V','Fridge','Table Fan']\n",
    "price = ('15000','30000','5000')\n",
    "qty = [5,10,25]\n",
    "for p , pr , qt in zip(products,price,qty):\n",
    "    print(f'{p}  | ${pr}| {qt}| total= {int(pr)*qt}')"
   ]
  },
  {
   "attachments": {},
   "cell_type": "markdown",
   "metadata": {},
   "source": [
    "Loop Control\n",
    "\n",
    "continue=> skip a turn\n",
    "\n",
    "break=> exit/stop loop\n",
    "\n",
    "Note: they are only used in a condition inside loop"
   ]
  },
  {
   "cell_type": "code",
   "execution_count": 27,
   "metadata": {},
   "outputs": [
    {
     "name": "stdout",
     "output_type": "stream",
     "text": [
      "1\n",
      "2\n",
      "3\n",
      "4\n",
      "6\n",
      "23\n",
      "3\n",
      "1\n",
      "2\n",
      "5\n",
      "6\n"
     ]
    }
   ],
   "source": [
    "x = [1,2,3,4,6,23,3,0,1,0,2,5,6]\n",
    "for i in x :\n",
    "    if i == 0:\n",
    "        continue\n",
    "    print (i)"
   ]
  },
  {
   "cell_type": "code",
   "execution_count": 28,
   "metadata": {},
   "outputs": [
    {
     "name": "stdout",
     "output_type": "stream",
     "text": [
      "1\n",
      "2\n",
      "3\n",
      "4\n",
      "6\n",
      "23\n",
      "3\n",
      "invalid data found , stopping code\n"
     ]
    }
   ],
   "source": [
    "for i in x :\n",
    "    if i == 0:\n",
    "        print('invalid data found , stopping code')\n",
    "        break\n",
    "    print(i)"
   ]
  },
  {
   "cell_type": "code",
   "execution_count": 29,
   "metadata": {},
   "outputs": [
    {
     "name": "stdout",
     "output_type": "stream",
     "text": [
      "Ritesh\n",
      "Nitesh\n",
      "Himanshu\n",
      "Amita\n",
      "Udbhav\n"
     ]
    }
   ],
   "source": [
    "for i , nm in enumerate(name):\n",
    "    if i == 5:\n",
    "        break\n",
    "    print(nm)"
   ]
  },
  {
   "attachments": {},
   "cell_type": "markdown",
   "metadata": {},
   "source": [
    "for - else"
   ]
  },
  {
   "cell_type": "code",
   "execution_count": 32,
   "metadata": {},
   "outputs": [
    {
     "name": "stdout",
     "output_type": "stream",
     "text": [
      "2 4 6 Loop Broken\n"
     ]
    }
   ],
   "source": [
    "#C , Java c#\n",
    "c = True #flag or switch\n",
    "for i in [2,4,6,5,6,1,7,2]:\n",
    "    if i ==5:\n",
    "        c=False\n",
    "        break\n",
    "    print(i , end=' ')\n",
    "if c :\n",
    "    print('Loop Completed')\n",
    "else :\n",
    "    print('Loop Broken')"
   ]
  },
  {
   "cell_type": "code",
   "execution_count": 33,
   "metadata": {},
   "outputs": [
    {
     "name": "stdout",
     "output_type": "stream",
     "text": [
      "2 1 32 41 2 1 2 3 31 31 Loop Completed\n"
     ]
    }
   ],
   "source": [
    "for i in [2,1,32,41,2,1,2,3,31,31]:\n",
    "    if i == 5:\n",
    "        print('loop broken')\n",
    "        break\n",
    "    print (i , end=' ')\n",
    "else:\n",
    "    print('Loop Completed')"
   ]
  },
  {
   "attachments": {},
   "cell_type": "markdown",
   "metadata": {},
   "source": [
    "While"
   ]
  },
  {
   "cell_type": "code",
   "execution_count": 34,
   "metadata": {},
   "outputs": [
    {
     "name": "stdout",
     "output_type": "stream",
     "text": [
      "100\n",
      "90\n",
      "80\n",
      "70\n",
      "60\n",
      "50\n",
      "40\n",
      "30\n",
      "20\n",
      "10\n"
     ]
    }
   ],
   "source": [
    "x= 100\n",
    "while x > 0 :\n",
    "    print(x)\n",
    "    x -=10"
   ]
  },
  {
   "cell_type": "code",
   "execution_count": null,
   "metadata": {},
   "outputs": [],
   "source": []
  }
 ],
 "metadata": {
  "kernelspec": {
   "display_name": "base",
   "language": "python",
   "name": "python3"
  },
  "language_info": {
   "codemirror_mode": {
    "name": "ipython",
    "version": 3
   },
   "file_extension": ".py",
   "mimetype": "text/x-python",
   "name": "python",
   "nbconvert_exporter": "python",
   "pygments_lexer": "ipython3",
   "version": "3.10.9"
  },
  "orig_nbformat": 4
 },
 "nbformat": 4,
 "nbformat_minor": 2
}
